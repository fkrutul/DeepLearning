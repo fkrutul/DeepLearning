{
 "cells": [
  {
   "cell_type": "code",
   "execution_count": 1,
   "metadata": {},
   "outputs": [],
   "source": [
    "from chord import Chord"
   ]
  },
  {
   "cell_type": "code",
   "execution_count": 2,
   "metadata": {},
   "outputs": [],
   "source": [
    "matrix = [\n",
    "    [20, 0, 0, 0, 0, 0, 0 ,0],\n",
    "    [0, 16, 0, 2, 0, 1, 1, 0], \n",
    "    [2,  0, 7, 0, 8, 3, 0, 0],\n",
    "    [0, 0, 0, 15, 0, 0, 5, 0],\n",
    "    [2, 0, 1, 0, 16, 0, 1, 0],\n",
    "    [0, 0, 0, 0, 0, 20, 0, 0],\n",
    "    [0, 0, 0, 0, 0, 0, 20, 0],\n",
    "    [0, 0, 0, 0, 0, 0, 0, 20],\n",
    "    \n",
    "]\n",
    "\n",
    "names = [\"Classical\",\n",
    "        \"EDM\", \n",
    "        \"Folk\",\n",
    "        \"Hip Hop\",\n",
    "        \"Jazz\",\n",
    "        \"Latin\",\n",
    "        \"LoFi\",\n",
    "        \"Punk\"]"
   ]
  },
  {
   "cell_type": "code",
   "execution_count": 6,
   "metadata": {},
   "outputs": [
    {
     "data": {
      "text/html": [
       "\n",
       "        <iframe\n",
       "            width=\"700\"\n",
       "            height=\"700\"\n",
       "            src=\"./out.html\"\n",
       "            frameborder=\"0\"\n",
       "            allowfullscreen\n",
       "        ></iframe>\n",
       "        "
      ],
      "text/plain": [
       "<IPython.lib.display.IFrame at 0x221a1a21438>"
      ]
     },
     "execution_count": 6,
     "metadata": {},
     "output_type": "execute_result"
    }
   ],
   "source": [
    "Chord(matrix, names).to_html()\n",
    "from IPython.display import IFrame\n",
    "IFrame(src=\"./out.html\", width=700, height=700)"
   ]
  }
 ],
 "metadata": {
  "kernelspec": {
   "display_name": "Python 3",
   "language": "python",
   "name": "python3"
  },
  "language_info": {
   "codemirror_mode": {
    "name": "ipython",
    "version": 3
   },
   "file_extension": ".py",
   "mimetype": "text/x-python",
   "name": "python",
   "nbconvert_exporter": "python",
   "pygments_lexer": "ipython3",
   "version": "3.6.10"
  }
 },
 "nbformat": 4,
 "nbformat_minor": 4
}
